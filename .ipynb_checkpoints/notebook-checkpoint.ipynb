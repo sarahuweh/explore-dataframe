{
 "cells": [
  {
   "cell_type": "markdown",
   "id": "0937d56d-d0e0-47e6-a453-0bb00231f412",
   "metadata": {},
   "source": [
    "# Explore a DataFrame\n",
    "\n",
    "Welcome to your workspace! Here, you can write code and text, run analyses, and share your data insights. In this walkthrough, you will learn the basics of Workspace as you load data from a SQL database and explore it with Python!\n",
    "\n",
    "Keep an eye out for 💪 &nbsp; icons throughout the notebook. These will indicate opportunities for you to customize the code and flex your coding abilities!"
   ]
  },
  {
   "cell_type": "markdown",
   "id": "95e54833-ba45-4c51-a7ae-36df9c6eb297",
   "metadata": {},
   "source": [
    "## 🏃&nbsp;&nbsp;Run a query \n",
    "\n",
    "In Workspace, you can add and run SQL cells to access relational databases. The query below retrieves data from a sample Redshift database containing information on ticket sales. It stores the results of the query as a pandas DataFrame with a name of your choosing.\n",
    "\n",
    "You can click the \"Browse tables\" button to view the available tables and columns, or continue with the existing query.\n",
    "\n",
    "_**To run a cell, click inside it and click \"Run\" or the ► icon. You can also use Shift-Enter to run a selected cell and automatically switch to the next cell.**_"
   ]
  },
  {
   "cell_type": "code",
   "execution_count": null,
   "id": "1f786c33-55e1-4536-8d90-b0c6fba7d316",
   "metadata": {
    "customType": "sql",
    "dataFrameVariableName": "event_details",
    "initial": false,
    "integrationId": "f6cfed46-351b-4bd5-8798-299c81baa8b6"
   },
   "outputs": [],
   "source": [
    "-- Select the details and location of different events\n",
    "SELECT \n",
    "\teventname AS event_name,\n",
    "    catname AS category_name,\n",
    "    catgroup AS category_group,\n",
    "    venuecity AS city,\n",
    "    caldate AS date,\n",
    "    SUM(qtysold) AS total_sold,\n",
    "    SUM(qtysold * pricepaid) AS total_sales\n",
    "FROM event\n",
    "INNER JOIN date USING(dateid)\n",
    "INNER JOIN category USING(catid)\n",
    "INNER JOIN venue USING(venueid)\n",
    "INNER JOIN sales USING(eventid)\n",
    "GROUP BY 1, 2, 3, 4, 5\n",
    "ORDER BY total_sold DESC\n",
    "LIMIT 1000"
   ]
  },
  {
   "cell_type": "markdown",
   "id": "2e43b74e-2ab9-4547-864a-3fa82a65ae8f",
   "metadata": {},
   "source": [
    "## 🔭&nbsp;&nbsp;Explore the data \n",
    "You now have access to a DataFrame that you can explore further using Python. Just as you used a SQL cell above to query the ticket sales database, you can add code cells to write and run Python code. \n",
    "\n",
    "Use the cell below to import pandas using the alias `pd`, as well as to import the interactive plotting library Plotly Express as `px`.\n",
    "\n",
    "_As a reminder, you can run a cell by click inside it and pressing the Run button, or by pressing Shift + Return._"
   ]
  },
  {
   "cell_type": "code",
   "execution_count": null,
   "id": "0b90ce48-20b0-4fd2-8d8f-6d92a6df61b9",
   "metadata": {},
   "outputs": [],
   "source": [
    "# Import libraries\n",
    "import pandas as pd\n",
    "import plotly.express as px\n",
    "\n",
    "# Preview the data\n",
    "event_details"
   ]
  },
  {
   "cell_type": "markdown",
   "id": "b271edb7-3e10-4a85-ba4f-59a5a132ec43",
   "metadata": {},
   "source": [
    "The `.info()` method prints a summary of a DataFrame. For each column, you can find its name, data type, and the number of non-null rows."
   ]
  },
  {
   "cell_type": "code",
   "execution_count": null,
   "id": "468164e6-e5c8-4df5-ad61-f2ac4caaa19d",
   "metadata": {},
   "outputs": [],
   "source": [
    "event_details.info()"
   ]
  },
  {
   "cell_type": "markdown",
   "id": "8a615dec-6c1b-4d82-922b-e2a41234e4ce",
   "metadata": {},
   "source": [
    "The `.describe()` method returns helpful descriptive statistics for your data, excluding null values. \n",
    "\n",
    "💪&nbsp;&nbsp;_By default, `.describe()` will only return descriptive statistics for numeric values. Try adding `include=\"all\"` as an argument to the code below to also print out descriptive statistics for the categorical columns!_"
   ]
  },
  {
   "cell_type": "code",
   "execution_count": null,
   "id": "93b01977-beab-4875-a3db-9b373b2c7196",
   "metadata": {},
   "outputs": [],
   "source": [
    "event_details.describe()"
   ]
  },
  {
   "cell_type": "markdown",
   "id": "35eec1c6-d3eb-4920-bb43-0507ffbc939c",
   "metadata": {},
   "source": [
    "**✏️&nbsp;&nbsp;Markdown cells such as this one contain text, and can be edited to add your own notes, observations, and conclusions.**\n",
    "\n",
    "To edit the text, simply click inside the cell and click \"Edit\", or double-click the cell. You can then add text using Markdown and finalize it by clicking the \"View\" button, or running the cell using Shift + Enter.\n",
    "\n",
    "💪&nbsp;&nbsp;_Try replacing the text in this cell with your observations on the output of the previous cell. You can also continue to use the \"Add Markdown\" button throughout this workspace to add more cells to share the insights from your analysis!_"
   ]
  },
  {
   "cell_type": "markdown",
   "id": "fbf04ff2-f797-4ee3-9916-8f906f948697",
   "metadata": {},
   "source": [
    "## 🎨&nbsp;&nbsp;Visualize the data \n",
    "An essential part of exploratory analysis is the ability to visualize data. We will begin with a boxplot to identify differences in sales between event categories.\n",
    "\n",
    "Plotly visualizations are interactive. Be sure to hover over each box to gain additional insights from the plot!\n",
    "\n",
    "💪&nbsp;&nbsp;_You can add a title to Plotly Express plots by using the `title` argument (e.g., `title=\"My Fantastic Plot\"`). Try adding a title to this and the following plot to help readers interpret your visualizations!_"
   ]
  },
  {
   "cell_type": "code",
   "execution_count": null,
   "id": "2f7986d2-b404-4df1-9cc0-ed0a90a4ccc1",
   "metadata": {},
   "outputs": [],
   "source": [
    "# Create a boxplot of total sales by event category\n",
    "fig = px.box(event_details, x=\"category_group\", y=\"total_sales\")\n",
    "fig.show()"
   ]
  },
  {
   "cell_type": "markdown",
   "id": "2fd28e31-1152-4ff3-9c1f-7e795d28bc0b",
   "metadata": {},
   "source": [
    "Scatter plots are a great way to visualize the relationship between two (or more) numeric variables.\n",
    "\n",
    "💪&nbsp;&nbsp;_You can color points in a scatter plot using the `color` parameter. Try adding `color=\"category_name\"` as an argument to the scatter plot to add an additional level to your plot!_"
   ]
  },
  {
   "cell_type": "code",
   "execution_count": null,
   "id": "399e9dad-d06b-4bbd-ac41-53bb184a6269",
   "metadata": {},
   "outputs": [],
   "source": [
    "# Create a scatter plot of total sold versus total sales\n",
    "fig = px.scatter(event_details, x=\"total_sold\", y=\"total_sales\", hover_data=[\"event_name\"])\n",
    "fig.show()"
   ]
  },
  {
   "cell_type": "markdown",
   "id": "f7399a1b-aeef-455e-96c0-f8fca2c1e68a",
   "metadata": {},
   "source": [
    "## 🔬&nbsp;&nbsp;Go forth and analyze!\n",
    "Well done! You have successfully used SQL and Python to load data and explore the resulting DataFrame. Feel free to continue to explore the data and expand on this workspace.\n",
    "\n",
    "When you're finished, be sure to share your analysis. Click the **Share** button to build a sleek publication that includes the rendered  text, code cells, and code output. When you publish your work, it appears automatically on your DataCamp profile so you can build out your portfolio. If you do not want to share your work with the world, you can adjust the sharing settings.\n",
    "\n",
    "After you have finished preparing your report, consider the following options:\n",
    "- Try out our ready-to-use [datasets](https://app.datacamp.com/workspace/datasets). These cover a variety of topics and include flat files such as csvs and additional databases for you to test out your SQL skills!\n",
    "- Kickstart your next project by using one of our [templates](https://app.datacamp.com/workspace/templates). These provide the code and instructions on various data science topics, ranging from machine learning to visualization.\n",
    "- Want to go at it on your own! Open a [blank workspace](https://app.datacamp.com/workspace/new?editorVersion=dcStudioEditor&_tag=template&templateKey=python-base) and get coding!"
   ]
  }
 ],
 "metadata": {
  "colab": {
   "name": "Welcome to DataCamp Workspaces.ipynb",
   "provenance": []
  },
  "editor": "DataCamp Workspace",
  "kernelspec": {
   "display_name": "Python 3",
   "language": "python",
   "name": "python3"
  },
  "language_info": {
   "codemirror_mode": {
    "name": "ipython",
    "version": 3
   },
   "file_extension": ".py",
   "mimetype": "text/x-python",
   "name": "python",
   "nbconvert_exporter": "python",
   "pygments_lexer": "ipython3",
   "version": "3.8.6rc1"
  }
 },
 "nbformat": 4,
 "nbformat_minor": 5
}
